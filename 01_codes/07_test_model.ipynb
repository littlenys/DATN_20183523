{
  "nbformat": 4,
  "nbformat_minor": 0,
  "metadata": {
    "colab": {
      "name": "07_test_model",
      "provenance": [],
      "collapsed_sections": []
    },
    "kernelspec": {
      "name": "python3",
      "display_name": "Python 3"
    },
    "language_info": {
      "name": "python"
    },
    "gpuClass": "standard"
  },
  "cells": [
    {
      "cell_type": "code",
      "execution_count": 1,
      "metadata": {
        "colab": {
          "base_uri": "https://localhost:8080/"
        },
        "id": "0FZ1gQ5tke8h",
        "outputId": "0b32638b-8635-4eaa-c1be-f8cafd172610"
      },
      "outputs": [
        {
          "output_type": "stream",
          "name": "stdout",
          "text": [
            "Mounted at /content/gdrive\n"
          ]
        }
      ],
      "source": [
        "from google.colab import drive\n",
        "drive.mount(\"/content/gdrive\",force_remount=True)"
      ]
    },
    {
      "cell_type": "code",
      "source": [
        "import pickle\n",
        "import numpy as np\n",
        "from numpy import mean\n",
        "from numpy import std\n",
        "from sklearn.model_selection import RepeatedKFold\n",
        "from keras.models import Sequential\n",
        "from keras.layers import Dense\n",
        "from sklearn.metrics import accuracy_score\n",
        "from keras.callbacks import ReduceLROnPlateau, EarlyStopping, ModelCheckpoint\n",
        "import matplotlib.pyplot as plt\n",
        "from keras.backend import clear_session"
      ],
      "metadata": {
        "id": "_uSIZ9tL7iNU"
      },
      "execution_count": 2,
      "outputs": []
    },
    {
      "cell_type": "code",
      "source": [
        "path_data = \"/content/gdrive/MyDrive/BK-DATN/data_final_23616.pkl\"\n",
        "load_paths = [\"/content/gdrive/MyDrive/BK-DATN/save_model/param_6080138_bz_64_loss_0.00802_acc_0.7498.hdf5\", \n",
        "              \"/content/gdrive/MyDrive/BK-DATN/save_model/param_6080138_bz_64_loss_0.01189_acc_0.7389.hdf5\",\n",
        "              \"/content/gdrive/MyDrive/BK-DATN/save_model/param_6080138_bz_64_loss_0.01567_acc_0.7331.hdf5\",\n",
        "              \"/content/gdrive/MyDrive/BK-DATN/save_model/param_6080138_bz_64_loss_0.02000_acc_0.7089.hdf5\"]\n",
        "load_paths = [\"/content/gdrive/MyDrive/BK-DATN/save_model/param_6080138_bz_64_loss_0.01499_acc_0.6837.hdf5\", \n",
        "              \"/content/gdrive/MyDrive/BK-DATN/save_model/param_6080138_bz_64_loss_0.01812_acc_0.6509.hdf5\",\n",
        "              \"/content/gdrive/MyDrive/BK-DATN/save_model/param_6080138_bz_64_loss_0.02423_acc_0.7811.hdf5\"]"
      ],
      "metadata": {
        "id": "5zQPeFjFRB_I"
      },
      "execution_count": 11,
      "outputs": []
    },
    {
      "cell_type": "code",
      "source": [
        "\n",
        "with open(path_data, 'rb') as f:\n",
        "    list_data = pickle.load(f)"
      ],
      "metadata": {
        "id": "aQSudQst7kp0"
      },
      "execution_count": 12,
      "outputs": []
    },
    {
      "cell_type": "code",
      "source": [
        "print(len(list_data))\n",
        "print(list_data[3])\n",
        "MIST_bag = 23616"
      ],
      "metadata": {
        "colab": {
          "base_uri": "https://localhost:8080/"
        },
        "id": "9NRLDLhAIH2j",
        "outputId": "7d1f534b-7396-4bd3-ee7c-3e030aa6fec6"
      },
      "execution_count": 13,
      "outputs": [
        {
          "output_type": "stream",
          "name": "stdout",
          "text": [
            "21192\n",
            "['50042c8722f85fa1b27d6c8d1def0b78708fd1b0c8a3b82996551df0d22cc492', [[35, 3], [62, 1], [261, 1], [282, 1], [371, 1], [399, 2], [450, 1], [541, 1], [698, 1], [711, 1], [848, 1], [865, 3], [1012, 2], [1023, 2], [1198, 8], [1205, 1], [1354, 1], [1370, 1], [1399, 12], [1432, 1], [1543, 1], [1598, 1], [1599, 2], [1656, 1], [1731, 1], [1782, 1], [2003, 4], [2016, 1], [2030, 23], [2058, 1], [2066, 2], [2087, 5], [2092, 114], [2225, 3], [2252, 1], [2507, 1], [2552, 2], [2700, 1], [2753, 1], [2764, 5], [2790, 1], [2864, 1], [2952, 96], [3173, 1], [3307, 76], [3559, 2], [3563, 2], [3566, 1], [3664, 1], [3693, 1], [3739, 69], [3927, 1], [4046, 23], [4097, 1], [4187, 1], [4227, 2], [4239, 2], [4324, 2], [4331, 3], [4463, 10], [4548, 1], [4595, 65], [4603, 1], [4616, 19], [4624, 9], [4776, 1], [4832, 52], [4940, 1], [5146, 1], [5167, 2], [5228, 14], [5500, 14], [5798, 1], [5828, 40], [5854, 2], [5915, 5], [5974, 3], [6095, 2], [6151, 4], [6330, 2], [6342, 1], [6400, 1], [6544, 2], [6595, 2], [6672, 1], [6788, 1], [6861, 1], [6868, 2], [7025, 2], [7148, 66], [7152, 1], [7226, 6], [7360, 2], [7376, 170], [7522, 6], [7587, 3], [7624, 3], [7626, 1], [7682, 2], [7810, 2], [7818, 1], [8005, 1], [8110, 1], [8144, 2], [8420, 1], [8473, 5], [8656, 49], [8660, 2], [8713, 1], [8772, 2], [8840, 217], [9086, 1], [9214, 1], [9252, 12], [9282, 2], [9350, 1], [9403, 2], [9494, 1], [9552, 36], [9578, 1], [9645, 1], [9656, 2], [9681, 1], [9750, 29], [9845, 3], [9849, 2], [9862, 1], [10016, 1], [10029, 2], [10258, 1], [10269, 3], [10271, 3], [10361, 1], [10375, 1], [10556, 5], [10725, 18], [10732, 2], [10797, 1], [10883, 48], [10964, 2], [11035, 1], [11076, 2], [11100, 1], [11123, 1], [11247, 2], [11260, 1], [11529, 7], [11634, 2], [11684, 3], [11763, 1], [11842, 2], [11894, 2], [11924, 1], [11977, 2], [12067, 149], [12103, 3], [12133, 2], [12237, 1], [12262, 76], [12276, 1], [12318, 1], [12350, 104], [12468, 5], [12800, 2], [12865, 5], [12869, 2], [12893, 5], [12909, 2], [12936, 1], [12970, 3], [13069, 1], [13103, 27], [13111, 1], [13139, 1], [13213, 2], [13264, 3], [13512, 2], [13628, 1], [13749, 1], [13790, 8], [13906, 1], [13952, 1], [13984, 7], [14051, 5], [14355, 1], [14357, 11], [14455, 141], [14458, 3], [14573, 1], [14617, 3], [14665, 2], [14678, 2], [14691, 437], [14852, 1], [15014, 37], [15063, 1], [15104, 1], [15217, 2], [15302, 2], [15314, 1], [15365, 15], [15394, 7], [15441, 1], [15459, 1], [15493, 1], [15589, 1], [15661, 1], [15723, 46], [15764, 2], [15784, 19], [15832, 2], [15962, 6], [15991, 67], [16027, 1], [16110, 25], [16171, 1], [16202, 1], [16215, 1], [16343, 1], [16380, 4], [16476, 287], [16858, 2], [16898, 2], [17105, 1], [17179, 2], [17182, 18], [17307, 1], [17311, 6], [17370, 1], [17560, 1], [17749, 2], [17763, 1], [17855, 4], [17892, 1], [17893, 3], [17962, 3], [17992, 1], [18021, 2], [18087, 1], [18166, 2], [18177, 18], [18194, 10], [18276, 1], [18438, 1], [18495, 1], [18647, 18], [18752, 1], [18823, 168], [19019, 2], [19098, 4], [19123, 1], [19139, 2], [19144, 29], [19182, 2], [19185, 2], [19189, 1], [19216, 2], [19230, 4], [19304, 8], [19353, 1], [19598, 1], [19622, 1], [19692, 12], [19761, 1], [19815, 3], [19824, 2], [19886, 3], [19892, 11], [20001, 28], [20006, 8], [20017, 1], [20025, 2], [20060, 2], [20089, 305], [20145, 1], [20230, 1], [20266, 1], [20467, 5], [20538, 2], [20571, 5], [20641, 4], [20790, 2], [20952, 2], [21159, 1], [21204, 1], [21341, 11], [21362, 4], [21396, 2], [21689, 12], [21770, 2], [21822, 2], [21896, 1], [22013, 2], [22038, 3], [22042, 38], [22049, 2], [22079, 1], [22110, 2], [22232, 2], [22264, 1], [22326, 1], [22353, 27], [22411, 2], [22619, 2], [22708, 2], [22725, 1], [22769, 1], [22913, 1], [22958, 2], [22965, 4], [22974, 18], [23077, 4], [23180, 2], [23189, 1], [23206, 2], [23237, 1], [23250, 2], [23484, 1]], [0, 0, 0, 0, 0, 0, 0, 0, 0, 0, 0, 0, 0, 0, 0, 0, 0, 0, 0, 0, 0, 0, 0, 0, 0, 0, 0, 0, 0, 0, 0, 1, 0, 0, 0, 0, 0, 0, 0, 0, 0, 0, 0, 0, 0, 1, 0, 1, 0, 0, 0, 0, 0, 0, 0, 1, 0, 0, 0, 1, 0, 0, 0, 0, 0, 0, 1, 0, 1, 0, 0, 1, 0, 0, 0, 0, 1, 0, 0, 0, 0, 0, 0, 0, 0, 0, 0, 0, 1, 0, 0, 0, 0, 0, 0, 0, 0, 0, 0, 0, 0, 0, 0, 0, 0, 0, 0, 0, 0, 0, 0, 0, 0, 0, 0, 1, 0, 0, 0, 0, 0, 0, 1, 0, 1, 1, 1, 0, 0, 0, 0, 0, 1, 0, 0, 0, 0, 0, 0, 1, 0, 0, 0, 0, 0, 0, 0, 0, 0, 0, 0, 0, 0, 0, 0, 0, 0, 0, 0, 1, 0, 1, 0, 1, 0, 0, 0, 0, 0, 0, 0, 0, 0, 0, 0, 0, 0, 0, 0, 0, 0, 0, 0, 0, 0, 0, 0, 0, 0, 0, 0]]\n"
          ]
        }
      ]
    },
    {
      "cell_type": "code",
      "source": [
        "# get data\n",
        "X = []\n",
        "y = []\n",
        "#choose_tag_index = [29, 47, 59, 67, 68, 71, 88, 101, 105, 115, 122, 123, 124, 125, 126, 147, 151] [59, 68, 88, 101, 105, 115, 122, 125, 126, 147, 151]\n",
        "choose_tag_index =  [59, 68, 88, 101, 105, 115, 122, 125, 147, 151] # [68, 88, 101, 105, 125, 126, 147, 151] # [59, 68, 88, 101, 105, 122, 125, 126, 147, 151]\n",
        "def unzip_mist(data,MIST_bag ):\n",
        "    temp_value = [0]*MIST_bag\n",
        "    for value in data:\n",
        "        temp_value[value[0]] = value[1]\n",
        "    return temp_value\n",
        "for i,data in enumerate(list_data[15000:]):\n",
        "    #print(i)\n",
        "    X.append(unzip_mist(data[1], MIST_bag))\n",
        "    tag = []\n",
        "    for tag_index in choose_tag_index:\n",
        "        tag.append(data[2][tag_index])\n",
        "    y.append(tag)\n",
        "TestX, TestY = np.array(X.copy()), np.array(y.copy())\n",
        "list_data.clear()\n",
        "X.clear()\n",
        "y.clear()\n",
        "\n",
        "model = Sequential()\n",
        "model.add(Dense(256, input_dim=MIST_bag, activation='relu'))\n",
        "model.add(Dense(128, activation='relu'))\n",
        "model.add(Dense(10, activation='sigmoid'))\n"
      ],
      "metadata": {
        "id": "PhfGnpl1Hcsj"
      },
      "execution_count": 14,
      "outputs": []
    },
    {
      "cell_type": "markdown",
      "source": [
        "**Tập train**"
      ],
      "metadata": {
        "id": "a5tLN92JovFK"
      }
    },
    {
      "cell_type": "code",
      "source": [
        "for load_path in load_paths:\n",
        "    print(\"=======================================================================\")\n",
        "    print(f\"model : {load_path.split('/')[-1]}\")\n",
        "    model.load_weights(load_path)\n",
        "    TP = 0\n",
        "    FP = 0\n",
        "    FN = 0\n",
        "    for i in range(0,len(TestY)):\n",
        "        #print(i)\n",
        "        Predict_Y = model.predict(TestX[i:i+1]).round()\n",
        "        for j in range(0,10):\n",
        "            if Predict_Y[0][j] == 1 and TestY[i][j] == 1:\n",
        "                TP+=1\n",
        "            if Predict_Y[0][j] == 0 and TestY[i][j] == 1:\n",
        "                FP+=1\n",
        "            if Predict_Y[0][j] == 1 and TestY[i][j] == 0:\n",
        "                FN+=1\n",
        "\n",
        "    micro_average_precision = (TP)/(TP+FP)\n",
        "    print(f\"micro_average_precision = {micro_average_precision}\")\n",
        "    micro_average_recall = (TP)/(TP+FN)\n",
        "    print(f\"micro_average_recall = {micro_average_recall}\")\n",
        "    F_score = 5/(1/micro_average_precision + 4/micro_average_recall)\n",
        "    print(f\"F_score = {F_score}\")"
      ],
      "metadata": {
        "colab": {
          "base_uri": "https://localhost:8080/"
        },
        "id": "TIap1SrFotcD",
        "outputId": "043c8245-93a4-47e4-edda-a6c7de7c450b"
      },
      "execution_count": null,
      "outputs": [
        {
          "output_type": "stream",
          "name": "stdout",
          "text": [
            "=======================================================================\n",
            "model : param_6080138_bz_64_loss_0.00802_acc_0.7498.hdf5\n",
            "micro_average_precision = 0.9936823493897969\n",
            "micro_average_recall = 0.9599641718915991\n",
            "F_score = 0.9665234935362365\n",
            "=======================================================================\n",
            "model : param_6080138_bz_64_loss_0.01189_acc_0.7389.hdf5\n",
            "micro_average_precision = 0.9911596015352107\n",
            "micro_average_recall = 0.9610905517573021\n",
            "F_score = 0.9669575168073237\n",
            "=======================================================================\n",
            "model : param_6080138_bz_64_loss_0.01567_acc_0.7331.hdf5\n",
            "micro_average_precision = 0.9904264953210574\n",
            "micro_average_recall = 0.962684299322009\n",
            "F_score = 0.9681077070933586\n",
            "=======================================================================\n",
            "model : param_6080138_bz_64_loss_0.02000_acc_0.7089.hdf5\n",
            "micro_average_precision = 0.9787830436845056\n",
            "micro_average_recall = 0.9646598805703721\n",
            "F_score = 0.9674518128266114\n"
          ]
        }
      ]
    },
    {
      "cell_type": "markdown",
      "source": [
        "**Tập Test**"
      ],
      "metadata": {
        "id": "5etdLr5Ho197"
      }
    },
    {
      "cell_type": "code",
      "source": [
        "for load_path in load_paths:\n",
        "    print(\"=======================================================================\")\n",
        "    print(f\"model : {load_path.split('/')[-1]}\")\n",
        "    model.load_weights(load_path)\n",
        "    TP = 0\n",
        "    FP = 0\n",
        "    FN = 0\n",
        "    for i in range(0,len(TestY)):\n",
        "        #print(i)\n",
        "        Predict_Y = model.predict(TestX[i:i+1]).round()\n",
        "        for j in range(0,10):\n",
        "            if Predict_Y[0][j] == 1 and TestY[i][j] == 1:\n",
        "                TP+=1\n",
        "            if Predict_Y[0][j] == 0 and TestY[i][j] == 1:\n",
        "                FP+=1\n",
        "            if Predict_Y[0][j] == 1 and TestY[i][j] == 0:\n",
        "                FN+=1\n",
        "\n",
        "    micro_average_precision = (TP)/(TP+FP)\n",
        "    print(f\"micro_average_precision = {micro_average_precision}\")\n",
        "    micro_average_recall = (TP)/(TP+FN)a\n",
        "    print(f\"micro_average_recall = {micro_average_recall}\")\n",
        "    F_score = 5/(1/micro_average_precision + 4/micro_average_recall)\n",
        "    print(f\"F_score = {F_score}\")"
      ],
      "metadata": {
        "colab": {
          "base_uri": "https://localhost:8080/"
        },
        "id": "Kbc0TpPfd65O",
        "outputId": "664c1d40-8d80-48f8-a8b8-7b89412b2cca"
      },
      "execution_count": null,
      "outputs": [
        {
          "output_type": "stream",
          "name": "stdout",
          "text": [
            "=======================================================================\n",
            "model : param_6080138_bz_64_loss_0.00802_acc_0.7498.hdf5\n",
            "micro_average_precision = 0.9536432905963408\n",
            "micro_average_recall = 0.7529449908137901\n",
            "F_score = 0.7860296495754138\n",
            "=======================================================================\n",
            "model : param_6080138_bz_64_loss_0.01189_acc_0.7389.hdf5\n",
            "micro_average_precision = 0.9454761144317196\n",
            "micro_average_recall = 0.7608033190145758\n",
            "F_score = 0.7917319374928361\n",
            "=======================================================================\n",
            "model : param_6080138_bz_64_loss_0.01567_acc_0.7331.hdf5\n",
            "micro_average_precision = 0.9379020851393896\n",
            "micro_average_recall = 0.7563192170425697\n",
            "F_score = 0.786784350049375\n",
            "=======================================================================\n",
            "model : param_6080138_bz_64_loss_0.02000_acc_0.7089.hdf5\n",
            "micro_average_precision = 0.9375370716795182\n",
            "micro_average_recall = 0.7778324563727903\n",
            "F_score = 0.805267076850727\n"
          ]
        }
      ]
    },
    {
      "cell_type": "code",
      "source": [
        "for load_path in load_paths:\n",
        "    print(\"=======================================================================\")\n",
        "    print(f\"model : {load_path.split('/')[-1]}\")\n",
        "    model.load_weights(load_path)\n",
        "    TP = 0\n",
        "    FP = 0\n",
        "    FN = 0\n",
        "    for i in range(0,len(TestY)):\n",
        "        #print(i)\n",
        "        Predict_Y = model.predict(TestX[i:i+1]).round()\n",
        "        for j in range(0,10):\n",
        "            if Predict_Y[0][j] == 1 and TestY[i][j] == 1:\n",
        "                TP+=1\n",
        "            if Predict_Y[0][j] == 0 and TestY[i][j] == 1:\n",
        "                FP+=1\n",
        "            if Predict_Y[0][j] == 1 and TestY[i][j] == 0:\n",
        "                FN+=1\n",
        "\n",
        "    micro_average_precision = (TP)/(TP+FP)\n",
        "    print(f\"micro_average_precision = {micro_average_precision}\")\n",
        "    micro_average_recall = (TP)/(TP+FN)\n",
        "    print(f\"micro_average_recall = {micro_average_recall}\")\n",
        "    F_score = 5/(1/micro_average_precision + 4/micro_average_recall)\n",
        "    print(f\"F_score = {F_score}\")"
      ],
      "metadata": {
        "colab": {
          "base_uri": "https://localhost:8080/"
        },
        "id": "5Igg8npEga9h",
        "outputId": "5f612744-f299-472c-ae16-5ba2fff1c1bc"
      },
      "execution_count": 16,
      "outputs": [
        {
          "output_type": "stream",
          "name": "stdout",
          "text": [
            "=======================================================================\n",
            "model : param_6080138_bz_64_loss_0.01499_acc_0.6837.hdf5\n",
            "micro_average_precision = 0.935301093688233\n",
            "micro_average_recall = 0.7768130745658836\n",
            "F_score = 0.8040629838009289\n",
            "=======================================================================\n",
            "model : param_6080138_bz_64_loss_0.01812_acc_0.6509.hdf5\n",
            "micro_average_precision = 0.9501471427943954\n",
            "micro_average_recall = 0.7566546573857078\n",
            "F_score = 0.7887808755642743\n",
            "=======================================================================\n",
            "model : param_6080138_bz_64_loss_0.02423_acc_0.7811.hdf5\n",
            "micro_average_precision = 0.9468529011288268\n",
            "micro_average_recall = 0.7537412587412587\n",
            "F_score = 0.7857939591884345\n"
          ]
        }
      ]
    },
    {
      "cell_type": "markdown",
      "source": [
        "**UNMISMAS**"
      ],
      "metadata": {
        "id": "5y-vjxhWN85I"
      }
    },
    {
      "cell_type": "code",
      "source": [
        "path_data = \"/content/gdrive/MyDrive/BK-DATN/data_final_23616_UNMISMAC.pkl\"\n",
        "load_paths = [\"/content/gdrive/MyDrive/BK-DATN/save_model/param_6080138_UNMISMAC_bz_64_loss_0.00292_acc_0.6946.hdf5\", \n",
        "              \"/content/gdrive/MyDrive/BK-DATN/save_model/param_6080138_UNMISMAC_bz_64_loss_0.00497_acc_0.6820.hdf5\",\n",
        "              \"/content/gdrive/MyDrive/BK-DATN/save_model/param_6080138_UNMISMAC_bz_64_loss_0.00930_acc_0.7252.hdf5\",\n",
        "              \"/content/gdrive/MyDrive/BK-DATN/save_model/param_6080138_UNMISMAC_bz_64_loss_0.00989_acc_0.6665.hdf5\"]"
      ],
      "metadata": {
        "id": "8g-QrIX0M5DH"
      },
      "execution_count": 6,
      "outputs": []
    },
    {
      "cell_type": "code",
      "source": [
        "\n",
        "with open(path_data, 'rb') as f:\n",
        "    list_data = pickle.load(f)"
      ],
      "metadata": {
        "id": "lVIbMr09N0NJ"
      },
      "execution_count": 7,
      "outputs": []
    },
    {
      "cell_type": "code",
      "source": [
        "print(len(list_data))\n",
        "print(list_data[3])\n",
        "MIST_bag = 23616"
      ],
      "metadata": {
        "colab": {
          "base_uri": "https://localhost:8080/"
        },
        "id": "x4Mfe5V3N2Ku",
        "outputId": "73ed087b-30f3-44ad-d51d-cec28705d378"
      },
      "execution_count": 8,
      "outputs": [
        {
          "output_type": "stream",
          "name": "stdout",
          "text": [
            "21192\n",
            "['50042c8722f85fa1b27d6c8d1def0b78708fd1b0c8a3b82996551df0d22cc492', [[104, 2], [117, 11], [227, 1], [243, 1], [493, 1], [527, 1], [530, 12], [636, 1], [647, 2], [673, 1], [727, 2], [741, 3], [781, 36], [929, 10], [998, 1], [1095, 2], [1121, 14], [1126, 1], [1159, 1], [1162, 2], [1188, 1], [1240, 3], [1478, 2], [1621, 1], [1630, 4], [1644, 5], [1658, 3], [1772, 48], [1866, 168], [1890, 38], [1915, 1], [1978, 18], [2154, 2], [2174, 1], [2232, 1], [2284, 1], [2299, 23], [2396, 1], [2432, 3], [2546, 2], [2617, 65], [2648, 1], [2666, 1], [2761, 2], [2879, 3], [2901, 2], [3074, 1], [3144, 2], [3175, 2], [3192, 1], [3276, 3], [3316, 2], [3352, 2], [3506, 1], [3509, 305], [3519, 3], [3682, 2], [3825, 1], [3921, 1], [4014, 1], [4104, 1], [4175, 1], [4183, 2], [4416, 1], [4548, 10], [4580, 5], [4602, 3], [4667, 1], [4705, 12], [4773, 1], [4788, 141], [4814, 1], [4866, 14], [5025, 2], [5071, 2], [5077, 4], [5279, 2], [5298, 5], [5312, 3], [5339, 2], [5371, 1], [5424, 1], [5431, 1], [5468, 1], [5533, 1], [5534, 170], [5550, 1], [5672, 5], [5694, 27], [5804, 1], [5811, 4], [5817, 2], [5836, 18], [5839, 49], [5993, 11], [6110, 1], [6142, 40], [6193, 2], [6209, 1], [6284, 1], [6298, 1], [6343, 7], [6405, 6], [6453, 1], [6492, 1], [6519, 2], [6589, 2], [6617, 1], [6759, 1], [7013, 2], [7069, 3], [7308, 1], [7319, 2], [7358, 1], [7507, 149], [7542, 1], [7546, 217], [7735, 3], [7788, 7], [7914, 1], [8104, 1], [8249, 27], [8261, 5], [8378, 2], [8464, 3], [8472, 2], [8561, 3], [8577, 1], [8578, 2], [8589, 1], [8637, 1], [8724, 1], [8965, 1], [9042, 6], [9060, 1], [9126, 1], [9277, 2], [9300, 1], [9375, 37], [9467, 2], [9630, 1], [9668, 5], [9726, 3], [10020, 2], [10022, 1], [10199, 67], [10235, 12], [10346, 15], [10401, 1], [10525, 1], [10622, 18], [10655, 2], [10713, 1], [10751, 1], [10915, 114], [10962, 1], [11029, 2], [11074, 4], [11354, 1], [11483, 1], [11508, 2], [11514, 1], [11625, 1], [11709, 1], [11891, 66], [12060, 5], [12109, 2], [12274, 1], [12345, 2], [12356, 4], [12541, 4], [12567, 2], [12611, 2], [12629, 1], [12812, 4], [12817, 1], [12824, 46], [12826, 19], [12841, 1], [12915, 2], [12972, 1], [13096, 1], [13167, 1], [13306, 2], [13308, 2], [13349, 1], [13358, 1], [13512, 1], [13633, 1], [13693, 3], [13929, 1], [14049, 2], [14079, 1], [14117, 6], [14287, 1], [14324, 2], [14341, 1], [14362, 1], [14463, 437], [14602, 2], [14648, 1], [14767, 1], [14793, 1], [14966, 1], [14981, 1], [15011, 1], [15020, 2], [15050, 2], [15154, 1], [15239, 287], [15248, 2], [15310, 1], [15350, 2], [15428, 2], [15476, 2], [15498, 1], [15561, 2], [15948, 96], [16001, 1], [16028, 2], [16033, 9], [16089, 29], [16156, 2], [16180, 1], [16326, 1], [16397, 1], [16426, 1], [16475, 3], [16698, 2], [16718, 6], [16747, 2], [16796, 2], [16860, 1], [16906, 1], [17011, 104], [17018, 12], [17072, 23], [17518, 8], [17584, 1], [17636, 1], [17736, 2], [17827, 2], [17929, 11], [17969, 4], [18039, 1], [18152, 3], [18191, 8], [18313, 3], [18510, 1], [18667, 2], [18688, 1], [18774, 2], [18785, 2], [18829, 2], [18836, 2], [18888, 18], [19168, 1], [19180, 2], [19273, 28], [19386, 5], [19443, 5], [19461, 1], [19617, 2], [19653, 2], [19669, 1], [19800, 4], [19890, 2], [19940, 1], [19943, 1], [20063, 69], [20071, 1], [20107, 1], [20146, 2], [20227, 1], [20234, 1], [20326, 76], [20444, 2], [20464, 1], [20471, 3], [20493, 2], [20520, 1], [20577, 1], [20758, 4], [20945, 29], [20964, 1], [21001, 1], [21138, 3], [21239, 52], [21296, 1], [21396, 5], [21492, 3], [21523, 8], [21535, 18], [21775, 2], [21806, 2], [21818, 2], [21862, 2], [21930, 2], [21947, 2], [21960, 1], [22033, 76], [22039, 1], [22061, 8], [22251, 1], [22378, 2], [22430, 1], [22451, 2], [22516, 1], [22612, 7], [22795, 19], [22917, 1], [23056, 25], [23059, 2], [23124, 1], [23333, 1], [23340, 2], [23343, 1], [23609, 5]], [0, 0, 0, 0, 0, 0, 0, 0, 0, 0, 0, 0, 0, 0, 0, 0, 0, 0, 0, 0, 0, 0, 0, 0, 0, 0, 0, 0, 0, 0, 0, 1, 0, 0, 0, 0, 0, 0, 0, 0, 0, 0, 0, 0, 0, 1, 0, 1, 0, 0, 0, 0, 0, 0, 0, 1, 0, 0, 0, 1, 0, 0, 0, 0, 0, 0, 1, 0, 1, 0, 0, 1, 0, 0, 0, 0, 1, 0, 0, 0, 0, 0, 0, 0, 0, 0, 0, 0, 1, 0, 0, 0, 0, 0, 0, 0, 0, 0, 0, 0, 0, 0, 0, 0, 0, 0, 0, 0, 0, 0, 0, 0, 0, 0, 0, 1, 0, 0, 0, 0, 0, 0, 1, 0, 1, 1, 1, 0, 0, 0, 0, 0, 1, 0, 0, 0, 0, 0, 0, 1, 0, 0, 0, 0, 0, 0, 0, 0, 0, 0, 0, 0, 0, 0, 0, 0, 0, 0, 0, 1, 0, 1, 0, 1, 0, 0, 0, 0, 0, 0, 0, 0, 0, 0, 0, 0, 0, 0, 0, 0, 0, 0, 0, 0, 0, 0, 0, 0, 0, 0, 0]]\n"
          ]
        }
      ]
    },
    {
      "cell_type": "code",
      "source": [
        "# get data\n",
        "X = []\n",
        "y = []\n",
        "#choose_tag_index = [29, 47, 59, 67, 68, 71, 88, 101, 105, 115, 122, 123, 124, 125, 126, 147, 151] [59, 68, 88, 101, 105, 115, 122, 125, 126, 147, 151]\n",
        "choose_tag_index =  [59, 68, 88, 101, 105, 115, 122, 125, 147, 151] # [68, 88, 101, 105, 125, 126, 147, 151] # [59, 68, 88, 101, 105, 122, 125, 126, 147, 151]\n",
        "def unzip_mist(data,MIST_bag ):\n",
        "    temp_value = [0]*MIST_bag\n",
        "    for value in data:\n",
        "        temp_value[value[0]] = value[1]\n",
        "    return temp_value\n",
        "for i,data in enumerate(list_data[15000:]):\n",
        "    #print(i)\n",
        "    X.append(unzip_mist(data[1], MIST_bag))\n",
        "    tag = []\n",
        "    for tag_index in choose_tag_index:\n",
        "        tag.append(data[2][tag_index])\n",
        "    y.append(tag)\n",
        "TestX, TestY = np.array(X.copy()), np.array(y.copy())\n",
        "list_data.clear()\n",
        "X.clear()\n",
        "y.clear()\n",
        "\n",
        "model = Sequential()\n",
        "model.add(Dense(256, input_dim=MIST_bag, activation='relu'))\n",
        "model.add(Dense(128, activation='relu'))\n",
        "model.add(Dense(10, activation='sigmoid'))\n"
      ],
      "metadata": {
        "id": "iseitfE_N4i_"
      },
      "execution_count": 9,
      "outputs": []
    },
    {
      "cell_type": "code",
      "source": [
        "for load_path in load_paths:\n",
        "    print(\"=======================================================================\")\n",
        "    print(f\"model : {load_path.split('/')[-1]}\")\n",
        "    model.load_weights(load_path)\n",
        "    TP = 0\n",
        "    FP = 0\n",
        "    FN = 0\n",
        "    for i in range(0,len(TestY)):\n",
        "        #print(i)\n",
        "        Predict_Y = model.predict(TestX[i:i+1]).round()\n",
        "        for j in range(0,10):\n",
        "            if Predict_Y[0][j] == 1 and TestY[i][j] == 1:\n",
        "                TP+=1\n",
        "            if Predict_Y[0][j] == 0 and TestY[i][j] == 1:\n",
        "                FP+=1\n",
        "            if Predict_Y[0][j] == 1 and TestY[i][j] == 0:\n",
        "                FN+=1\n",
        "\n",
        "    micro_average_precision = (TP)/(TP+FP)\n",
        "    print(f\"micro_average_precision = {micro_average_precision}\")\n",
        "    micro_average_recall = (TP)/(TP+FN)\n",
        "    print(f\"micro_average_recall = {micro_average_recall}\")\n",
        "    F_score = 5/(1/micro_average_precision + 4/micro_average_recall)\n",
        "    print(f\"F_score = {F_score}\")"
      ],
      "metadata": {
        "colab": {
          "base_uri": "https://localhost:8080/"
        },
        "id": "5o3GHsyrN7Of",
        "outputId": "d1531c33-4327-4fda-bb88-e0612f3f416b"
      },
      "execution_count": 10,
      "outputs": [
        {
          "output_type": "stream",
          "name": "stdout",
          "text": [
            "=======================================================================\n",
            "model : param_6080138_UNMISMAC_bz_64_loss_0.00292_acc_0.6946.hdf5\n",
            "micro_average_precision = 0.9449202793516932\n",
            "micro_average_recall = 0.7717114467123435\n",
            "F_score = 0.8010798733941538\n",
            "=======================================================================\n",
            "model : param_6080138_UNMISMAC_bz_64_loss_0.00497_acc_0.6820.hdf5\n",
            "micro_average_precision = 0.9502789124610181\n",
            "micro_average_recall = 0.7620909507203494\n",
            "F_score = 0.7935198022343991\n",
            "=======================================================================\n",
            "model : param_6080138_UNMISMAC_bz_64_loss_0.00930_acc_0.7252.hdf5\n",
            "micro_average_precision = 0.9496200641279045\n",
            "micro_average_recall = 0.7657976763955795\n",
            "F_score = 0.7966395224584546\n",
            "=======================================================================\n",
            "model : param_6080138_UNMISMAC_bz_64_loss_0.00989_acc_0.6665.hdf5\n",
            "micro_average_precision = 0.9506302982386788\n",
            "micro_average_recall = 0.7591904026939806\n",
            "F_score = 0.7910511041747381\n"
          ]
        }
      ]
    }
  ]
}